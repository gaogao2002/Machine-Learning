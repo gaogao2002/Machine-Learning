{
 "cells": [
  {
   "cell_type": "code",
   "execution_count": 41,
   "id": "00a6658a",
   "metadata": {},
   "outputs": [],
   "source": [
    "import numpy as np\n",
    "import pandas as pd"
   ]
  },
  {
   "cell_type": "code",
   "execution_count": 37,
   "id": "b2bc2477",
   "metadata": {},
   "outputs": [
    {
     "name": "stdout",
     "output_type": "stream",
     "text": [
      "2\n",
      "[[2]\n",
      " [5]]\n",
      "[[2 3 4 5]\n",
      " [5 6 7 9]]\n",
      "[[2 3 5]\n",
      " [5 6 9]]\n"
     ]
    }
   ],
   "source": [
    "feature = np.array([[2,3,4,5],[5,6,7,9]])\n",
    "list_feature = [0,1,3]\n",
    "k = 3\n",
    "s = list_feature[0]\n",
    "print(len(feature))\n",
    "new_feature = feature[:,s].reshape((len(feature),1))\n",
    "print(new_feature)\n",
    "# 获得新的特征数据集\n",
    "for i in range(1,k):\n",
    "    s = list_feature[i]\n",
    "    new_feature = np.hstack((new_feature, feature[:,s].reshape((len(feature),1))))\n",
    "\n",
    "print(feature)\n",
    "print(new_feature)"
   ]
  },
  {
   "cell_type": "code",
   "execution_count": 39,
   "id": "f1a7ec9d",
   "metadata": {},
   "outputs": [
    {
     "data": {
      "text/plain": [
       "2"
      ]
     },
     "execution_count": 39,
     "metadata": {},
     "output_type": "execute_result"
    }
   ],
   "source": [
    "x = [1,3,4,11,0,3]\n",
    "x.count(3)"
   ]
  },
  {
   "cell_type": "code",
   "execution_count": 49,
   "id": "97b6f473",
   "metadata": {},
   "outputs": [
    {
     "name": "stdout",
     "output_type": "stream",
     "text": [
      "acc = 50.00%\n"
     ]
    }
   ],
   "source": [
    "acc = 0.5\n",
    "print(\"acc = {:.2%}\".format(acc))\n"
   ]
  }
 ],
 "metadata": {
  "kernelspec": {
   "display_name": "torch",
   "language": "python",
   "name": "torch"
  },
  "language_info": {
   "codemirror_mode": {
    "name": "ipython",
    "version": 3
   },
   "file_extension": ".py",
   "mimetype": "text/x-python",
   "name": "python",
   "nbconvert_exporter": "python",
   "pygments_lexer": "ipython3",
   "version": "3.9.12"
  }
 },
 "nbformat": 4,
 "nbformat_minor": 5
}
