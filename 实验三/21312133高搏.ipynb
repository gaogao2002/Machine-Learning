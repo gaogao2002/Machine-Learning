{
 "cells": [
  {
   "cell_type": "markdown",
   "id": "498d70fa",
   "metadata": {},
   "source": [
    "**<font color = black size=6>实验三:逻辑回归</font>**"
   ]
  },
  {
   "cell_type": "markdown",
   "id": "fa5c5483",
   "metadata": {},
   "source": [
    "**<font color = blue size=4>第一部分:函数介绍</font>**"
   ]
  },
  {
   "cell_type": "markdown",
   "id": "869f21ce",
   "metadata": {},
   "source": [
    "<span style=\"color:purple\">由于机器学习所使用的数据集并不一定能够直接进行使用，如经常可能出现缺失值或者异常值（如异常0或者异常大的数据），又或者是数据类型不适合直接应用于模型训练等，所以数据预处理同样是机器学习过程中十分重要的一个部分。  \n",
    "    本次实验的数据预处理需要用的操作包括判断数据是否有缺失值以及异常值、缺失值替换操作、并将部分特征值类型转换为适合模型训练的类型。在进行逻辑回归实验之前，首先介绍下上述操作所用到的python语法。</span>"
   ]
  },
  {
   "cell_type": "markdown",
   "id": "3957a94a",
   "metadata": {},
   "source": [
    "<span style=\"color:purple\">1) 判断一列中是否有缺失值</span>"
   ]
  },
  {
   "cell_type": "code",
   "execution_count": 1,
   "id": "5472add3",
   "metadata": {},
   "outputs": [],
   "source": [
    "import pandas as pd\n",
    "import numpy as np\n",
    "import matplotlib.pyplot as plt\n",
    "import math\n",
    "import matplotlib as mpl\n",
    "# ignore warnings\n",
    "import warnings\n",
    "warnings.filterwarnings('ignore')"
   ]
  },
  {
   "cell_type": "code",
   "execution_count": 2,
   "id": "dc6837f2",
   "metadata": {},
   "outputs": [
    {
     "name": "stdout",
     "output_type": "stream",
     "text": [
      "height    2\n",
      "weight    2\n",
      "sex       0\n",
      "dtype: int64\n",
      "   height  weight     sex\n",
      "0   170.0    54.0    Male\n",
      "1   180.0     NaN    Male\n",
      "2   164.0    48.0  Female\n",
      "3     NaN    66.0    Male\n",
      "4   176.0     NaN  Female\n",
      "5   162.0    59.0    Male\n",
      "6   154.0    46.0    Male\n",
      "7   155.0    58.0  Female\n",
      "8   165.0     0.0  Female\n",
      "9     NaN    50.0  Female\n"
     ]
    }
   ],
   "source": [
    "#通过pandas将csv文件转换为dataframe格式后进行操作\n",
    "train1_frame = pd.read_csv('introduction.csv')\n",
    "#判断每一列是否有空值并返回每列空值的数量\n",
    "print(train1_frame.isnull().sum())\n",
    "print(train1_frame)"
   ]
  },
  {
   "cell_type": "markdown",
   "id": "75d469ff",
   "metadata": {},
   "source": [
    "<span style=\"color:purple\">2) 对每一列的缺失值和异常值进行替换操作</span>"
   ]
  },
  {
   "cell_type": "code",
   "execution_count": 3,
   "id": "891fed76",
   "metadata": {},
   "outputs": [
    {
     "name": "stdout",
     "output_type": "stream",
     "text": [
      "   height  weight     sex\n",
      "0   170.0    54.0    Male\n",
      "1   180.0     NaN    Male\n",
      "2   164.0    48.0  Female\n",
      "3     NaN    66.0    Male\n",
      "4   176.0     NaN  Female\n",
      "5   162.0    59.0    Male\n",
      "6   154.0    46.0    Male\n",
      "7   155.0    58.0  Female\n",
      "8   165.0     NaN  Female\n",
      "9     NaN    50.0  Female\n"
     ]
    }
   ],
   "source": [
    "#将0替换为空值，之后将空值替换为修正的值(例如：平均值、中数、众数等)\n",
    "#利用pandas中的replace函数将某一列的指定值替换为另一个值\n",
    "train1_frame[['height','weight']]=\\\n",
    "train1_frame[['height','weight']].replace(0,np.NaN)\n",
    "print(train1_frame)"
   ]
  },
  {
   "cell_type": "code",
   "execution_count": 4,
   "id": "1aec2a23",
   "metadata": {},
   "outputs": [
    {
     "name": "stdout",
     "output_type": "stream",
     "text": [
      "   height  weight     sex\n",
      "0   170.0    54.0    Male\n",
      "1   180.0     NaN    Male\n",
      "2   164.0    48.0  Female\n",
      "3   165.0    66.0    Male\n",
      "4   176.0     NaN  Female\n",
      "5   162.0    59.0    Male\n",
      "6   154.0    46.0    Male\n",
      "7   155.0    58.0  Female\n",
      "8   165.0     NaN  Female\n",
      "9   166.5    50.0  Female\n"
     ]
    }
   ],
   "source": [
    "#先对height列进行分离，之后将temp按照性别进行分类，之后使用mean函数分别计算male和female非空数据的height的平均值\n",
    "temp=train1_frame[train1_frame['height'].notnull()]\n",
    "temp=temp[['height','sex']].groupby(['sex'])[['height']].mean().reset_index()\n",
    "\n",
    "#使用dataframe的loc函数将指定条件的height列和sex列筛选出来进行值替换操作\n",
    "train1_frame.loc[(train1_frame['sex']=='Male')&(train1_frame['height'].isnull()),'height']=temp['height'][0]\n",
    "train1_frame.loc[(train1_frame['sex']=='Female')&(train1_frame['height'].isnull()),'height']=temp['height'][1]\n",
    "print(train1_frame)"
   ]
  },
  {
   "cell_type": "code",
   "execution_count": 5,
   "id": "4f394062",
   "metadata": {},
   "outputs": [
    {
     "name": "stdout",
     "output_type": "stream",
     "text": [
      "   height  weight     sex\n",
      "0   170.0    54.0    Male\n",
      "1   180.0    50.0    Male\n",
      "2   164.0    48.0  Female\n",
      "3   165.0    66.0    Male\n",
      "4   176.0    56.5  Female\n",
      "5   162.0    59.0    Male\n",
      "6   154.0    46.0    Male\n",
      "7   155.0    58.0  Female\n",
      "8   165.0    56.5  Female\n",
      "9   166.5    50.0  Female\n"
     ]
    }
   ],
   "source": [
    "#再对weight列进行分离，之后同样将temp按照性别进行分类，之后使用median函数分别计算male和female非空数据的height的平均值\n",
    "temp=train1_frame[train1_frame['weight'].notnull()]\n",
    "temp=temp[['weight','sex']].groupby(['sex'])[['weight']].median().reset_index()\n",
    "\n",
    "#使用dataframe的loc函数将指定条件的height列和sex列筛选出来进行值替换操作\n",
    "train1_frame.loc[(train1_frame['sex']=='Male')&(train1_frame['weight'].isnull()),'weight']=temp['weight'][0]\n",
    "train1_frame.loc[(train1_frame['sex']=='Female')&(train1_frame['weight'].isnull()),'weight']=temp['weight'][1]\n",
    "print(train1_frame)"
   ]
  },
  {
   "cell_type": "markdown",
   "id": "d0ea36f6",
   "metadata": {},
   "source": [
    "<span style=\"color:purple\">3) 将结果值从字符串变成容易操作的整数类型</span>"
   ]
  },
  {
   "cell_type": "code",
   "execution_count": 6,
   "id": "8341000e",
   "metadata": {},
   "outputs": [
    {
     "name": "stdout",
     "output_type": "stream",
     "text": [
      "   height  weight     sex\n",
      "0   170.0    54.0    Male\n",
      "1   180.0    50.0    Male\n",
      "2   164.0    48.0  Female\n",
      "3   165.0    66.0    Male\n",
      "4   176.0    56.5  Female\n",
      "5   162.0    59.0    Male\n",
      "6   154.0    46.0    Male\n",
      "7   155.0    58.0  Female\n",
      "8   165.0    56.5  Female\n",
      "9   166.5    50.0  Female\n",
      "   height  weight  sex\n",
      "0   170.0    54.0    0\n",
      "1   180.0    50.0    0\n",
      "2   164.0    48.0    1\n",
      "3   165.0    66.0    0\n",
      "4   176.0    56.5    1\n",
      "5   162.0    59.0    0\n",
      "6   154.0    46.0    0\n",
      "7   155.0    58.0    1\n",
      "8   165.0    56.5    1\n",
      "9   166.5    50.0    1\n"
     ]
    }
   ],
   "source": [
    "print(train1_frame)\n",
    "train1_frame['sex'] = np.where(train1_frame['sex'] == \"Male\", 0, 1)\n",
    "print(train1_frame)"
   ]
  },
  {
   "cell_type": "markdown",
   "id": "ac00368d",
   "metadata": {},
   "source": [
    "<span style=\"color:purple\">4) 当坐标为两维时的绘图</span>"
   ]
  },
  {
   "cell_type": "code",
   "execution_count": 7,
   "id": "f4314e6f",
   "metadata": {},
   "outputs": [
    {
     "data": {
      "image/png": "[encoded data removed]",
      "text/plain": [
       "<Figure size 720x360 with 1 Axes>"
      ]
     },
     "metadata": {
      "needs_background": "light"
     },
     "output_type": "display_data"
    }
   ],
   "source": [
    "#确定图画边界和大小\n",
    "plt.figure(figsize=(10,5))\n",
    "x_min, x_max = 0,10\n",
    "y_min, y_max = 0,5\n",
    "#使用numpy中的meshgrid生成网格矩阵，方便进行之后的描点\n",
    "boundary_x, boundary_y = np.meshgrid(np.arange(x_min, x_max, 0.01),np.arange(y_min, y_max, 0.01))\n",
    "grid = np.c_[boundary_x.ravel(), boundary_y.ravel()]\n",
    "#加入偏置对应的一列\n",
    "e=np.ones((len(grid),1))\n",
    "grid=np.c_[e,grid]\n",
    "#假定下列的模型参数\n",
    "w=np.array([[0],[3],[-6]])\n",
    "#计算出网格点中每个点对应的逻辑回归预测值\n",
    "z=grid.dot(w)\n",
    "for i in range(len(z)):\n",
    "    z[i][0]=(1/(1+np.exp(-z[i])))\n",
    "    if(z[i][0]<0.5):z[i][0]=0\n",
    "    else:z[i][0]=1\n",
    "#转换shape以作出决策边界\n",
    "z=z.reshape(boundary_x.shape)\n",
    "plt.contourf(boundary_x, boundary_y, z, cmap=plt.cm.Spectral, zorder=1)\n",
    "plt.show()"
   ]
  },
  {
   "cell_type": "code",
   "execution_count": 8,
   "id": "8c07701a",
   "metadata": {},
   "outputs": [
    {
     "data": {
      "image/png": "[encoded data removed]",
      "text/plain": [
       "<Figure size 432x288 with 1 Axes>"
      ]
     },
     "metadata": {
      "needs_background": "light"
     },
     "output_type": "display_data"
    }
   ],
   "source": [
    "\"\"\"\n",
    "可使用plt.scatter来绘制出测试集的每个样本点，并设置指定颜色来区分预测正确和错误的样本\n",
    "plt.scatter(x,y,c=\"color\")，x、y为坐标值，c为指定颜色\n",
    "\"\"\"\n",
    "class_1=train1_frame[train1_frame['sex']==1]\n",
    "class_0=train1_frame[train1_frame['sex']==0]\n",
    "plt.scatter(class_1['height'],class_1['weight'],c='blue')\n",
    "plt.scatter(class_0['height'],class_0['weight'],c='red')\n",
    "plt.show()"
   ]
  },
  {
   "cell_type": "markdown",
   "id": "657beb0c",
   "metadata": {},
   "source": [
    "**<font color = blue size=4>第二部分:逻辑回归实验一</font>**"
   ]
  },
  {
   "cell_type": "code",
   "execution_count": 126,
   "id": "226badd7",
   "metadata": {},
   "outputs": [],
   "source": [
    "import pandas as pd\n",
    "import numpy as np\n",
    "import matplotlib.pyplot as plt\n",
    "import math\n",
    "import matplotlib as mpl"
   ]
  },
  {
   "cell_type": "markdown",
   "id": "7a0bdb6f",
   "metadata": {},
   "source": [
    "<span style=\"color:purple\">Iris数据集是常用的分类实验数据集,也称鸢尾花卉数据集，是一类多重变量分析的数据集。我们实验选取数据集的部分内容，包含训练集中的80个数据样本和测试集的20个样本，分为2类，每个数据包含2个属性。可通过花萼长度(x1)，花萼宽度(x2)2个属性预测鸢尾花卉属于（Setosa，Versicolour）二个种类中的哪一类。</span>"
   ]
  },
  {
   "cell_type": "markdown",
   "id": "70d2906a",
   "metadata": {},
   "source": [
    "<span style=\"color:purple\">1) 使用pandas库将训练数据集'flower_train.csv'与测试数据集'flower_test.csv'载入到Dataframe对象中，并判断训练集中每列数据是否有缺失值或者不合理的数值，如果有，请在不删除数据的前提下进行处理，而测试集为完好的数据集，不需要进行操作。由于花卉类型(type)为字符串类型，请将花卉类型转换为适合模型训练的类型</span>"
   ]
  },
  {
   "cell_type": "code",
   "execution_count": 127,
   "id": "f59640f4",
   "metadata": {},
   "outputs": [],
   "source": [
    "#your code here------\n"
   ]
  },
  {
   "cell_type": "markdown",
   "id": "75b2fd55",
   "metadata": {},
   "source": [
    "<span style=\"color:purple\">2)在之前的线性回归实验中，我们的模型为$\\hat{y}=\\omega^T x+b$，为方便实验，该实验中我们将偏置量b划入模型参数中，则对应的模型变为$\\hat{y}=\\omega^Tx$，请进行相应的转换  \n",
    "tips:上一次实验中的矩阵求解析解的方法中将某一列全设置为1，即将偏置量b算入模型参数中，特征值中加入一列全1的特征量</span>"
   ]
  },
  {
   "cell_type": "code",
   "execution_count": 128,
   "id": "6c2c4001",
   "metadata": {},
   "outputs": [
    {
     "name": "stdout",
     "output_type": "stream",
     "text": [
      "x1      5\n",
      "x2      6\n",
      "type    0\n",
      "dtype: int64\n",
      "x1      0\n",
      "x2      0\n",
      "type    0\n",
      "dtype: int64\n"
     ]
    }
   ],
   "source": [
    "#your code here------\n",
    "train1_frame = pd.read_csv('flower_train.csv')\n",
    "test1_frame = pd.read_csv('flower_test.csv')\n",
    "\n",
    "train1_frame['type'] = np.where(train1_frame['type'] == \"Iris-setosa\", 0, 1)\n",
    "test1_frame['type'] = np.where(test1_frame['type'] == \"Iris-setosa\", 0, 1)\n",
    "\n",
    "print(train1_frame.isnull().sum())\n",
    "\n",
    "train1_frame[['x1','x2']]=\\\n",
    "train1_frame[['x1','x2']].replace(0,np.NaN)\n",
    "\n",
    "temp=train1_frame[train1_frame['x1'].notnull()]\n",
    "temp=temp[['x1','type']].groupby(['type'])[['x1']].mean().reset_index()\n",
    "train1_frame.loc[(train1_frame['type']==0)&(train1_frame['x1'].isnull()),'x1']=temp['x1'][0]\n",
    "train1_frame.loc[(train1_frame['type']==1)&(train1_frame['x1'].isnull()),'x1']=temp['x1'][1]\n",
    "\n",
    "temp1=train1_frame[train1_frame['x2'].notnull()]\n",
    "temp1=temp1[['x2','type']].groupby(['type'])[['x2']].mean().reset_index()\n",
    "train1_frame.loc[(train1_frame['type']==0)&(train1_frame['x2'].isnull()),'x2']=temp1['x2'][0]\n",
    "train1_frame.loc[(train1_frame['type']==1)&(train1_frame['x2'].isnull()),'x2']=temp1['x2'][1]\n",
    "\n",
    "print(train1_frame.isnull().sum())\n",
    "\n",
    "train1 = np.array(train1_frame)\n",
    "test1=np.array(test1_frame)\n",
    "\n",
    "train1_feature=train1[:,0:2]\n",
    "train1_outcome=train1[:,2:3]\n",
    "test1_feature=test1[:,0:2]\n",
    "test1_outcome=test1[:,2:3]"
   ]
  },
  {
   "cell_type": "markdown",
   "id": "fec5c2ed",
   "metadata": {},
   "source": [
    "<span style=\"color:purple\">3) 由于逻辑回归的原理是用逻辑函数把线性回归的结果(-∞,∞)映射到(0,1)所以逻辑回归适合于二分类问题。我们使用sigmoid函数$g(z)=\\frac{1}{1+e^{-z}}$将把线性回归的结果从(-∞,∞)映射到(0,1)。  \n",
    "    假设模型为线性回归模型$\\hat{y}=\\omega_0+\\omega_1 x_1+\\omega_2 x_2+...+\\omega_n x_n=\\omega^T x$，则任意样本所对应发生的概率值函数即为$g(\\hat{y})=\\frac{1}{1+e^{-\\hat{y}}}$，这样事情发生(定义为标签为1)的概率为$$P(y=1|x)=\\frac{1}{1+e^{-\\omega^T x}}$$  \n",
    "    对应于任意一个样本(${x_i}$,$y_i$),其中$x_i$为特征值，$y_i$为实际结果值,在参数$\\omega$下，该样本发生的概率为$$P(y_i|x_i,\\omega)=y_i{P(y_i=1|x_i)}+({1-y_i}){P(y_i=0|x_i)}$$\n",
    "    将每个样本发生概率相乘，得到似然函数:$$\\Pi^m_{i=1}{P(y_i|x_i,\\omega)}$$\n",
    "    为了计算方便，一般取对数得到对数似然函数:$$L(\\omega)=\\sum^m_{i=1}{lnP(y_i|x_i,\\omega)}$$  \n",
    "    我们总是希望出现预测正确的概率的可能性最大，即想要得到极大化似然函数对应的参数$\\omega$。这样最大化似然函数就转变为最小化似然函数的负数，取负的平均对数似然函数为损失函数,通过这样构建的损失函数$$J(\\omega)=-\\frac{1}{m}\\sum^m_{i=1}{lnP(y_i|x_i,\\omega)}=-\\frac{1}{m}\\sum^m_{i=1}ln(y_i\\frac{1}{1+e^{-\\omega^T x_i}}+(1-y_i)\\frac{e^{-\\omega^T x_i}}{1+e^{-\\omega^T x_i}})$$  \n",
    "    手动实现梯度下降法(不使用机器学习框架，如PyTorch、TensorFlow等)来进行模型的训练。  </span>"
   ]
  },
  {
   "cell_type": "markdown",
   "id": "f1a81c73",
   "metadata": {},
   "source": [
    "<span style=\"color:purple\">算法步骤如下：①初始化模型参数$\\omega$的值；②在负梯度的方向上更新参数(由于该实验涉及样本数量较小，建议使用批量梯度下降)，并不断迭代这一步骤。</span>"
   ]
  },
  {
   "cell_type": "markdown",
   "id": "4e922340",
   "metadata": {},
   "source": [
    "<span style=\"color:purple\">其中梯度的下降偏导公式为\n",
    "    $$\\frac{\\partial J}{\\partial \\omega_j}=\\frac{1}{m}\\sum_{i=1}^m x_{ij}(\\frac{e^{\\omega^T x_i}}{1+e^{\\omega^T x_i}}-y_i)$$  \n",
    "    参数更新的公式为$$\\omega_j =\\omega_j-\\eta\\frac{\\partial J}{\\partial w_j}$$其中$\\eta$表示学习率，$m$则表示批量中的样本数量，$x_{ij}$代表着第i个样本的第j个特征值,$y_i$代表着第i个样本的真实值</span>"
   ]
  },
  {
   "cell_type": "code",
   "execution_count": 130,
   "id": "8a92473b",
   "metadata": {},
   "outputs": [
    {
     "name": "stdout",
     "output_type": "stream",
     "text": [
      "[[ 0.02150219]\n",
      " [ 3.48903017]\n",
      " [-6.09721545]]\n"
     ]
    }
   ],
   "source": [
    "f1=np.ones((len(train1),1))\n",
    "f2=np.ones((len(test1),1))\n",
    "\n",
    "train1_feature=np.concatenate((f1,train1_feature),axis=1)\n",
    "test1_feature=np.concatenate((f2,test1_feature),axis=1)\n",
    "\n",
    "eta = 0.015\n",
    "w=np.array([[1],[1],[1]])\n",
    "for i in range(0,10000):\n",
    "    a=train1_feature\n",
    "    y=train1_feature\n",
    "    x=y.dot(w)\n",
    "    for i in range(80):\n",
    "        x[i]=(np.exp(x[i][0])/(1+np.exp(x[i][0])))\n",
    "    w=w-a.T.dot(x-train1_outcome)*(eta/80)\n",
    "print(w)\n",
    "\n"
   ]
  },
  {
   "cell_type": "markdown",
   "id": "b24f2e7e",
   "metadata": {},
   "source": [
    "<span style=\"color:purple\">4)在模型训练完成后得到所训练的模型参数$\\omega$，在测试集上进行所训练模型的测试并使用之前所介绍的损失函数计算loss值</span>"
   ]
  },
  {
   "cell_type": "code",
   "execution_count": 131,
   "id": "a4253a5c",
   "metadata": {},
   "outputs": [
    {
     "name": "stdout",
     "output_type": "stream",
     "text": [
      "1.80454770449709\n"
     ]
    }
   ],
   "source": [
    "#your code here------\n",
    "outcome=test1_feature.dot(w)\n",
    "for i in range(20):\n",
    "    outcome[i]=math.log(1/(1+np.exp(-outcome[i])))\n",
    "loss=-(np.sum(np.multiply(test1_outcome,outcome)+np.multiply((np.ones((20,1))-test1_outcome),outcome))/20)\n",
    "print(loss)"
   ]
  },
  {
   "cell_type": "markdown",
   "id": "dd339060",
   "metadata": {},
   "source": [
    "<span style=\"color:purple\">5)使用训练后的逻辑回归模型对测试数据集'flower_test.csv'进行预测，输出可视化结果（比如用seaborn或者matplotlib等可视化库来画出测试数据的散点图以及训练好的模型函数图像)，要求如下:  \n",
    "    1.将所得到的逻辑回归模型所得到的决策边界绘制出来  \n",
    "  2.测试集的所有点在同一幅图中进行绘制  \n",
    "  3.需要给不同类别的测试点不同颜色，方便通过颜色的区别直观看到预测正确和错误的样本</span>"
   ]
  },
  {
   "cell_type": "code",
   "execution_count": 132,
   "id": "3597e87c",
   "metadata": {},
   "outputs": [
    {
     "data": {
      "image/png": "[encoded data removed]",
      "text/plain": [
       "<Figure size 648x432 with 1 Axes>"
      ]
     },
     "metadata": {
      "needs_background": "light"
     },
     "output_type": "display_data"
    }
   ],
   "source": [
    "#your code here------\n",
    "plt.figure(figsize=(9,6))\n",
    "x_min, x_max = 4.2,7.2\n",
    "y_min, y_max = 2.2,4.2\n",
    "xx, yy = np.meshgrid(np.arange(x_min, x_max, 0.01),np.arange(y_min, y_max, 0.01))\n",
    "d = np.c_[xx.ravel(), yy.ravel()]\n",
    "e=np.ones((len(d),1))\n",
    "d=np.c_[e,d]\n",
    "z=d.dot(w)\n",
    "for i in range(len(z)):\n",
    "    z[i][0]=(1/(1+np.exp(-z[i])))\n",
    "    if(z[i][0]<0.5):z[i][0]=0\n",
    "    else:\n",
    "        z[i][0]=1\n",
    "z=z.reshape(xx.shape)\n",
    "plt.contourf(xx, yy, z, cmap=plt.cm.Spectral, zorder=1)\n",
    "class_1=test1_frame[test1_frame['type']==1]\n",
    "class_0=test1_frame[test1_frame['type']==0]\n",
    "plt.scatter(class_1['x1'],class_1['x2'],c='blue')\n",
    "plt.scatter(class_0['x1'],class_0['x2'],c='red')\n",
    "plt.show()\n",
    "\n"
   ]
  },
  {
   "cell_type": "markdown",
   "id": "b869bee1",
   "metadata": {},
   "source": [
    "**<font color = blue size=4>第三部分:逻辑回归实验二</font>**"
   ]
  },
  {
   "cell_type": "markdown",
   "id": "cf3a5a55",
   "metadata": {},
   "source": [
    "<span style=\"color:purple\">该数据集(train_titanic.csv和test_titanic.csv)同样为分类数据集，为泰坦尼克号的乘客信息以及最后是否生还。包括了七个特征值以及一个类别特征(即为Survived类型,代表是否生还),特征信息分别为Passengerid(乘客id)，Age(乘客年龄)，Fare(船票价格),Sex(性别)，sibsp(堂兄弟妹个数)，Parch(父母与小孩的个数)，Pclass(乘客等级)</span>"
   ]
  },
  {
   "cell_type": "markdown",
   "id": "f4a492fe",
   "metadata": {},
   "source": [
    "<span style=\"color:purple\">该数据集已经做了处理，无缺失值和空值，且字符串类型全部转换成了整数类型，但是七个特征值与最后是否生还关联度不同。该实验的任务依然是在训练集上使用逻辑回归方法和手动实现的梯度下降方法完成模型训练。</span>"
   ]
  },
  {
   "cell_type": "code",
   "execution_count": 2,
   "id": "7ebd3c1e",
   "metadata": {},
   "outputs": [],
   "source": [
    "import pandas as pd\n",
    "import numpy as np\n",
    "import matplotlib.pyplot as plt\n",
    "import math"
   ]
  },
  {
   "cell_type": "markdown",
   "id": "915ff106",
   "metadata": {},
   "source": [
    "<span style=\"color:purple\">1) 使用pandas库将训练数据集'train_titanic.csv'与测试数据集'test_titanic.csv'载入到Dataframe对象中</span>"
   ]
  },
  {
   "cell_type": "code",
   "execution_count": 14,
   "id": "7056ffde",
   "metadata": {},
   "outputs": [
    {
     "data": {
      "text/html": [
       "<div>\n",
       "<style scoped>\n",
       "    .dataframe tbody tr th:only-of-type {\n",
       "        vertical-align: middle;\n",
       "    }\n",
       "\n",
       "    .dataframe tbody tr th {\n",
       "        vertical-align: top;\n",
       "    }\n",
       "\n",
       "    .dataframe thead th {\n",
       "        text-align: right;\n",
       "    }\n",
       "</style>\n",
       "<table border=\"1\" class=\"dataframe\">\n",
       "  <thead>\n",
       "    <tr style=\"text-align: right;\">\n",
       "      <th></th>\n",
       "      <th>Passengerid</th>\n",
       "      <th>Age</th>\n",
       "      <th>Fare</th>\n",
       "      <th>Sex</th>\n",
       "      <th>sibsp</th>\n",
       "      <th>Parch</th>\n",
       "      <th>Pclass</th>\n",
       "      <th>Survived</th>\n",
       "      <th>b</th>\n",
       "    </tr>\n",
       "  </thead>\n",
       "  <tbody>\n",
       "    <tr>\n",
       "      <th>0</th>\n",
       "      <td>1</td>\n",
       "      <td>22.0</td>\n",
       "      <td>7.2500</td>\n",
       "      <td>0</td>\n",
       "      <td>1</td>\n",
       "      <td>0</td>\n",
       "      <td>3</td>\n",
       "      <td>0</td>\n",
       "      <td>1</td>\n",
       "    </tr>\n",
       "    <tr>\n",
       "      <th>1</th>\n",
       "      <td>2</td>\n",
       "      <td>38.0</td>\n",
       "      <td>71.2833</td>\n",
       "      <td>1</td>\n",
       "      <td>1</td>\n",
       "      <td>0</td>\n",
       "      <td>1</td>\n",
       "      <td>1</td>\n",
       "      <td>1</td>\n",
       "    </tr>\n",
       "    <tr>\n",
       "      <th>2</th>\n",
       "      <td>3</td>\n",
       "      <td>26.0</td>\n",
       "      <td>7.9250</td>\n",
       "      <td>1</td>\n",
       "      <td>0</td>\n",
       "      <td>0</td>\n",
       "      <td>3</td>\n",
       "      <td>1</td>\n",
       "      <td>1</td>\n",
       "    </tr>\n",
       "    <tr>\n",
       "      <th>3</th>\n",
       "      <td>4</td>\n",
       "      <td>35.0</td>\n",
       "      <td>53.1000</td>\n",
       "      <td>1</td>\n",
       "      <td>1</td>\n",
       "      <td>0</td>\n",
       "      <td>1</td>\n",
       "      <td>1</td>\n",
       "      <td>1</td>\n",
       "    </tr>\n",
       "    <tr>\n",
       "      <th>4</th>\n",
       "      <td>5</td>\n",
       "      <td>35.0</td>\n",
       "      <td>8.0500</td>\n",
       "      <td>0</td>\n",
       "      <td>0</td>\n",
       "      <td>0</td>\n",
       "      <td>3</td>\n",
       "      <td>0</td>\n",
       "      <td>1</td>\n",
       "    </tr>\n",
       "    <tr>\n",
       "      <th>...</th>\n",
       "      <td>...</td>\n",
       "      <td>...</td>\n",
       "      <td>...</td>\n",
       "      <td>...</td>\n",
       "      <td>...</td>\n",
       "      <td>...</td>\n",
       "      <td>...</td>\n",
       "      <td>...</td>\n",
       "      <td>...</td>\n",
       "    </tr>\n",
       "    <tr>\n",
       "      <th>1004</th>\n",
       "      <td>1305</td>\n",
       "      <td>28.0</td>\n",
       "      <td>8.0500</td>\n",
       "      <td>0</td>\n",
       "      <td>0</td>\n",
       "      <td>0</td>\n",
       "      <td>3</td>\n",
       "      <td>0</td>\n",
       "      <td>1</td>\n",
       "    </tr>\n",
       "    <tr>\n",
       "      <th>1005</th>\n",
       "      <td>1306</td>\n",
       "      <td>39.0</td>\n",
       "      <td>108.9000</td>\n",
       "      <td>1</td>\n",
       "      <td>0</td>\n",
       "      <td>0</td>\n",
       "      <td>1</td>\n",
       "      <td>0</td>\n",
       "      <td>1</td>\n",
       "    </tr>\n",
       "    <tr>\n",
       "      <th>1006</th>\n",
       "      <td>1307</td>\n",
       "      <td>38.5</td>\n",
       "      <td>7.2500</td>\n",
       "      <td>0</td>\n",
       "      <td>0</td>\n",
       "      <td>0</td>\n",
       "      <td>3</td>\n",
       "      <td>0</td>\n",
       "      <td>1</td>\n",
       "    </tr>\n",
       "    <tr>\n",
       "      <th>1007</th>\n",
       "      <td>1308</td>\n",
       "      <td>28.0</td>\n",
       "      <td>8.0500</td>\n",
       "      <td>0</td>\n",
       "      <td>0</td>\n",
       "      <td>0</td>\n",
       "      <td>3</td>\n",
       "      <td>0</td>\n",
       "      <td>1</td>\n",
       "    </tr>\n",
       "    <tr>\n",
       "      <th>1008</th>\n",
       "      <td>1309</td>\n",
       "      <td>28.0</td>\n",
       "      <td>22.3583</td>\n",
       "      <td>0</td>\n",
       "      <td>1</td>\n",
       "      <td>1</td>\n",
       "      <td>3</td>\n",
       "      <td>0</td>\n",
       "      <td>1</td>\n",
       "    </tr>\n",
       "  </tbody>\n",
       "</table>\n",
       "<p>1009 rows × 9 columns</p>\n",
       "</div>"
      ],
      "text/plain": [
       "      Passengerid   Age      Fare  Sex  sibsp  Parch  Pclass  Survived  b\n",
       "0               1  22.0    7.2500    0      1      0       3         0  1\n",
       "1               2  38.0   71.2833    1      1      0       1         1  1\n",
       "2               3  26.0    7.9250    1      0      0       3         1  1\n",
       "3               4  35.0   53.1000    1      1      0       1         1  1\n",
       "4               5  35.0    8.0500    0      0      0       3         0  1\n",
       "...           ...   ...       ...  ...    ...    ...     ...       ... ..\n",
       "1004         1305  28.0    8.0500    0      0      0       3         0  1\n",
       "1005         1306  39.0  108.9000    1      0      0       1         0  1\n",
       "1006         1307  38.5    7.2500    0      0      0       3         0  1\n",
       "1007         1308  28.0    8.0500    0      0      0       3         0  1\n",
       "1008         1309  28.0   22.3583    0      1      1       3         0  1\n",
       "\n",
       "[1009 rows x 9 columns]"
      ]
     },
     "execution_count": 14,
     "metadata": {},
     "output_type": "execute_result"
    }
   ],
   "source": [
    "#your code here------\n",
    "\n",
    "#通过pandas将csv文件转换为dataframe格式后进行操作\n",
    "train_frame = pd.read_csv('train_titanic.csv')\n",
    "test_frame = pd.read_csv(\"test_titanic.csv\")\n",
    "\n",
    "train_frame[\"b\"] = 1\n",
    "test_frame[\"b\"] = 1\n",
    "train_frame"
   ]
  },
  {
   "cell_type": "markdown",
   "id": "9abde442",
   "metadata": {},
   "source": [
    "<span style=\"color:purple\">2) 选择至少4个特征值建立逻辑回归模型，利用梯度下降方法(由于该数据集样本数量较大，所以建议使用随机批量或小批量)进行模型训练，并使用10次10折交叉验证进行模型选择。</span>"
   ]
  },
  {
   "cell_type": "code",
   "execution_count": 4,
   "id": "55e62317",
   "metadata": {},
   "outputs": [
    {
     "name": "stdout",
     "output_type": "stream",
     "text": [
      "      Passengerid   Age      Fare  Sex  Survived  b\n",
      "0               1  22.0    7.2500    0         0  1\n",
      "1               2  38.0   71.2833    1         1  1\n",
      "2               3  26.0    7.9250    1         1  1\n",
      "3               4  35.0   53.1000    1         1  1\n",
      "4               5  35.0    8.0500    0         0  1\n",
      "...           ...   ...       ...  ...       ... ..\n",
      "1004         1305  28.0    8.0500    0         0  1\n",
      "1005         1306  39.0  108.9000    1         0  1\n",
      "1006         1307  38.5    7.2500    0         0  1\n",
      "1007         1308  28.0    8.0500    0         0  1\n",
      "1008         1309  28.0   22.3583    0         0  1\n",
      "\n",
      "[1009 rows x 6 columns]\n"
     ]
    }
   ],
   "source": [
    "#your code here------\n",
    "#模型1-10\n",
    "\n",
    "\n",
    "data1 = train_frame.loc[:,[\"Passengerid\",\"Age\",\"Fare\",\"Sex\",\"Survived\"]]\n",
    "data1[\"b\"] = 1\n",
    "print(data1)\n",
    "\n",
    "data2 = train_frame.loc[:,[\"Passengerid\",\"Age\",\"Fare\",\"sibsp\",\"Survived\"]]\n",
    "data2[\"b\"] = 1\n",
    "\n",
    "\n",
    "data3 = train_frame.loc[:,[\"Passengerid\",\"Age\",\"Fare\",\"Parch\",\"Survived\"]]\n",
    "data3[\"b\"] = 1\n",
    "\n",
    "\n",
    "data4 = train_frame.loc[:,[\"Passengerid\",\"Age\",\"Fare\",\"Pclass\",\"Survived\"]]\n",
    "data4 [\"b\"] = 1\n",
    "\n",
    "\n",
    "data5 = train_frame.loc[:,[\"Passengerid\",\"Fare\",\"Sex\",\"sibsp\",\"Survived\"]]\n",
    "data5[\"b\"] = 1\n",
    "\n",
    "\n",
    "data6 = train_frame.loc[:,[\"Passengerid\",\"Fare\",\"Sex\",\"Parch\",\"Survived\"]]\n",
    "data6[\"b\"] = 1\n",
    "\n",
    "\n",
    "data7 = train_frame.loc[:,[\"Passengerid\",\"Fare\",\"Sex\",\"Pclass\",\"Survived\"]]\n",
    "data7[\"b\"] = 1\n",
    "\n",
    "\n",
    "data8 = train_frame.loc[:,[\"Age\",\"Fare\",\"Sex\",\"sibsp\",\"Survived\"]]\n",
    "data8[\"b\"] = 1\n",
    "\n",
    "\n",
    "data9 = train_frame.loc[:,[\"Age\",\"Fare\",\"Sex\",\"Parch\",\"Survived\"]]\n",
    "data9[\"b\"] = 1\n",
    "\n",
    "\n",
    "data10= train_frame.loc[:,[\"Age\",\"Fare\",\"Sex\",\"Pclass\",\"Survived\"]]\n",
    "data10[\"b\"] = 1\n",
    "\n",
    "\n"
   ]
  },
  {
   "cell_type": "code",
   "execution_count": 64,
   "id": "4504a3a7",
   "metadata": {},
   "outputs": [
    {
     "name": "stdout",
     "output_type": "stream",
     "text": [
      "[0.05581838235049471, 0.11297714911104062, 0.16933311354337627, 0.21758075559999993, 0.2613072898654923, 0.305139904892261, 0.3640285973465988, 0.40940409992528315, 0.4592206340718376, 0.5055635888135316]\n",
      "[0.06088829255431442, 0.11011938472354396, 0.16820097028227213, 0.21434659207560308, 0.25685023567275705, 0.3020134736515656, 0.3616355059337993, 0.40849200451081236, 0.4582453750932052, 0.5067240554070919]\n"
     ]
    }
   ],
   "source": [
    "#利用梯度下降法实现训练：\n",
    "#训练模型1并测试\n",
    "\n",
    "import math\n",
    "w11 = 0.001\n",
    "w12 = 0.5\n",
    "w13 = 0.4\n",
    "w14 = 0.3\n",
    "w10 = 0.2\n",
    "W1 = np.array([[w11],\n",
    "              [w12],\n",
    "              [w13],\n",
    "              [w14],\n",
    "              [w10]])\n",
    "w21 = 0.001\n",
    "w22 = 0.6\n",
    "w23 = 0.5\n",
    "w24 = 0.7\n",
    "w20 = 0.3\n",
    "W2 = np.array([[w21],\n",
    "              [w22],\n",
    "              [w23],\n",
    "              [w24],\n",
    "              [w20]])\n",
    "\n",
    "learning_rate = 0.001\n",
    "\n",
    "#先划分数据集\n",
    "from sklearn.model_selection import train_test_split\n",
    "\n",
    "# 开始训练，此处使用小批量梯度下降(因为样本容量太大)\n",
    "J1 = list()\n",
    "J2 = list()\n",
    "\n",
    "loss1 = 0\n",
    "loss2 = 0\n",
    "\n",
    "for i in range(10):\n",
    "    train_set,test_set = train_test_split(train_frame, test_size = 0.1)\n",
    "\n",
    "    for i in range(10):\n",
    "        iteration = 0  #迭代次数\n",
    "   \n",
    "        while True:\n",
    "            train1 = train_set.sample(frac=0.2,axis=0)\n",
    "            train1_x = train_set[[\"Age\",\"Fare\",\"Sex\",\"sibsp\",\"b\"]]\n",
    "            train1_y = train_set[\"Survived\"].copy()\n",
    "            index = train1_x.shape[0]\n",
    "            m = np.exp(np.dot(train1_x,W1))\n",
    "            m1 = m/(1+m)\n",
    "            Y1 = np.matrix(train1_y).T\n",
    "            update = np.dot(train1_x.T,(m1 - Y1))\n",
    "            W1 = W1 - (learning_rate/index)* update\n",
    "            iteration += 1\n",
    "            if iteration > 1000:\n",
    "                break\n",
    "            if (abs(((learning_rate/index)* update))<pow(10,-5)).all():\n",
    "                break\n",
    "            \n",
    "        iteration = 0 \n",
    "        while True:\n",
    "            train2 = train_set.sample(frac=0.2,axis=0)\n",
    "            train2_x = train_set[[\"Sex\",\"sibsp\",\"Parch\",\"Pclass\",\"b\"]]\n",
    "            train2_y = train_set[\"Survived\"].copy()\n",
    "            index = train2_x.shape[0]\n",
    "            m = np.exp(np.dot(train2_x,W2))\n",
    "            m1 = m/(1+m)\n",
    "            Y1 = np.matrix(train2_y).T\n",
    "            update = np.dot(train2_x.T,(m1 - Y1))\n",
    "            W2 = W2 - (learning_rate/index)* update\n",
    "            iteration += 1\n",
    "            if iteration > 1000:\n",
    "                break\n",
    "            if (abs(((learning_rate/index)* update))<pow(10,-5)).all():\n",
    "                break\n",
    "        \n",
    "        \n",
    "#下面测试，并求得loss\n",
    "        m1 = 0\n",
    "        Y1 = 0\n",
    "        test1_x = test_set[[\"Age\",\"Fare\",\"Sex\",\"sibsp\",\"b\"]]\n",
    "        test1_y = test_set[\"Survived\"].copy()\n",
    "        m1 = np.exp(-np.dot(test1_x,W1))\n",
    "        Y1 = np.matrix(test1_y).T\n",
    "        \n",
    "#计算损失函数\n",
    "        index_1 = 0\n",
    "        index_1 = test1_x.shape[0]\n",
    "        s1 = np.log(Y1/(1+m1)+np.multiply(1-Y1,m1/(1+m1)))\n",
    "        loss1 += (-np.sum(s1)/index)\n",
    "         \n",
    "#下面测试，并求得loss\n",
    "        m2 = 0\n",
    "        Y2 = 0\n",
    "        test2_x = test_set[[\"Sex\",\"sibsp\",\"Parch\",\"Pclass\",\"b\"]]\n",
    "        test2_y = test_set[\"Survived\"].copy()\n",
    "        m2 = np.exp(-np.dot(test2_x,W2))\n",
    "        Y2 = np.matrix(test2_y).T\n",
    "        \n",
    "#计算损失函数\n",
    "        index_2 = 0\n",
    "        index_2 = test2_x.shape[0]\n",
    "        s2 = np.log(Y2/(1+m2)+np.multiply(1-Y2,m2/(1+m2)))\n",
    "        loss2 += (-np.sum(s2)/index)\n",
    "        \n",
    "    J1.append(loss1/10)\n",
    "    J2.append(loss2/10) \n",
    "\n",
    "print(J1)\n",
    "print(J2)"
   ]
  },
  {
   "cell_type": "code",
   "execution_count": 65,
   "id": "1a7a1c5d",
   "metadata": {},
   "outputs": [
    {
     "name": "stdout",
     "output_type": "stream",
     "text": [
      "False\n"
     ]
    }
   ],
   "source": [
    "if np.mean(J1)<np.mean(J2):\n",
    "    print(\"True\")\n",
    "else:\n",
    "    print(\"False\")"
   ]
  },
  {
   "cell_type": "code",
   "execution_count": 101,
   "id": "f3ba30a1",
   "metadata": {},
   "outputs": [
    {
     "name": "stdout",
     "output_type": "stream",
     "text": [
      "[[-0.06978656]\n",
      " [ 0.29947919]\n",
      " [ 0.30014889]\n",
      " [-0.27279436]\n",
      " [-0.09184649]]\n"
     ]
    }
   ],
   "source": [
    "# 因此选择模型1，下面对模型1进行训练，此处应该用整体的数据集\n",
    "\n",
    "train_set = train_frame\n",
    "w1 = 0.001\n",
    "w2 = 0.6\n",
    "w3 = 0.5\n",
    "w4 = 0.7\n",
    "w0 = 0.3\n",
    "W = np.array([[w1],\n",
    "              [w2],\n",
    "              [w3],\n",
    "              [w4],\n",
    "              [w0]])\n",
    "learning_rate = 0.0001\n",
    "iteration = 0\n",
    "while True:\n",
    "    train = train_set.sample(frac=0.5,axis=0)\n",
    "    train_x = train_set[[\"Sex\",\"sibsp\",\"Parch\",\"Pclass\",\"b\"]]\n",
    "    train_y = train_set[\"Survived\"].copy()\n",
    "    index = train_x.shape[0]\n",
    "    m = np.exp(np.dot(train_x,W))\n",
    "    m1 = m/(1+m)\n",
    "    Y = np.matrix(train_y).T\n",
    "    update = np.dot(train_x.T,(m1 - Y))\n",
    "    W = W - (learning_rate/index)* update\n",
    "    iteration += 1\n",
    "    if iteration > 10000:\n",
    "                break\n",
    "    if (abs(((learning_rate/index)* update))<pow(10,-5)).all():\n",
    "                break\n",
    "\n",
    "print(W)\n"
   ]
  },
  {
   "cell_type": "markdown",
   "id": "95f698bc",
   "metadata": {},
   "source": [
    "<span style=\"color:purple\">3) 使用训练后的逻辑回归模型对测试数据集'test_titanic.csv'进行预测，并计算其精度，查准率，查全率，画出P-R曲线，画出ROC曲线。</span>"
   ]
  },
  {
   "cell_type": "code",
   "execution_count": 93,
   "id": "4dd020b7",
   "metadata": {},
   "outputs": [
    {
     "data": {
      "text/html": [
       "<div>\n",
       "<style scoped>\n",
       "    .dataframe tbody tr th:only-of-type {\n",
       "        vertical-align: middle;\n",
       "    }\n",
       "\n",
       "    .dataframe tbody tr th {\n",
       "        vertical-align: top;\n",
       "    }\n",
       "\n",
       "    .dataframe thead th {\n",
       "        text-align: right;\n",
       "    }\n",
       "</style>\n",
       "<table border=\"1\" class=\"dataframe\">\n",
       "  <thead>\n",
       "    <tr style=\"text-align: right;\">\n",
       "      <th></th>\n",
       "      <th>Passengerid</th>\n",
       "      <th>Age</th>\n",
       "      <th>Fare</th>\n",
       "      <th>Sex</th>\n",
       "      <th>sibsp</th>\n",
       "      <th>Parch</th>\n",
       "      <th>Pclass</th>\n",
       "      <th>Survived</th>\n",
       "      <th>b</th>\n",
       "    </tr>\n",
       "  </thead>\n",
       "  <tbody>\n",
       "    <tr>\n",
       "      <th>0</th>\n",
       "      <td>471</td>\n",
       "      <td>28.0</td>\n",
       "      <td>7.2500</td>\n",
       "      <td>0</td>\n",
       "      <td>0</td>\n",
       "      <td>0</td>\n",
       "      <td>3</td>\n",
       "      <td>0</td>\n",
       "      <td>1</td>\n",
       "    </tr>\n",
       "    <tr>\n",
       "      <th>1</th>\n",
       "      <td>472</td>\n",
       "      <td>38.0</td>\n",
       "      <td>8.6625</td>\n",
       "      <td>0</td>\n",
       "      <td>0</td>\n",
       "      <td>0</td>\n",
       "      <td>3</td>\n",
       "      <td>0</td>\n",
       "      <td>1</td>\n",
       "    </tr>\n",
       "    <tr>\n",
       "      <th>2</th>\n",
       "      <td>473</td>\n",
       "      <td>33.0</td>\n",
       "      <td>27.7500</td>\n",
       "      <td>1</td>\n",
       "      <td>1</td>\n",
       "      <td>2</td>\n",
       "      <td>2</td>\n",
       "      <td>1</td>\n",
       "      <td>1</td>\n",
       "    </tr>\n",
       "    <tr>\n",
       "      <th>3</th>\n",
       "      <td>474</td>\n",
       "      <td>23.0</td>\n",
       "      <td>13.7917</td>\n",
       "      <td>1</td>\n",
       "      <td>0</td>\n",
       "      <td>0</td>\n",
       "      <td>2</td>\n",
       "      <td>1</td>\n",
       "      <td>1</td>\n",
       "    </tr>\n",
       "    <tr>\n",
       "      <th>4</th>\n",
       "      <td>475</td>\n",
       "      <td>22.0</td>\n",
       "      <td>9.8375</td>\n",
       "      <td>1</td>\n",
       "      <td>0</td>\n",
       "      <td>0</td>\n",
       "      <td>3</td>\n",
       "      <td>0</td>\n",
       "      <td>1</td>\n",
       "    </tr>\n",
       "    <tr>\n",
       "      <th>...</th>\n",
       "      <td>...</td>\n",
       "      <td>...</td>\n",
       "      <td>...</td>\n",
       "      <td>...</td>\n",
       "      <td>...</td>\n",
       "      <td>...</td>\n",
       "      <td>...</td>\n",
       "      <td>...</td>\n",
       "      <td>...</td>\n",
       "    </tr>\n",
       "    <tr>\n",
       "      <th>295</th>\n",
       "      <td>766</td>\n",
       "      <td>51.0</td>\n",
       "      <td>77.9583</td>\n",
       "      <td>1</td>\n",
       "      <td>1</td>\n",
       "      <td>0</td>\n",
       "      <td>1</td>\n",
       "      <td>1</td>\n",
       "      <td>1</td>\n",
       "    </tr>\n",
       "    <tr>\n",
       "      <th>296</th>\n",
       "      <td>767</td>\n",
       "      <td>28.0</td>\n",
       "      <td>39.6000</td>\n",
       "      <td>0</td>\n",
       "      <td>0</td>\n",
       "      <td>0</td>\n",
       "      <td>1</td>\n",
       "      <td>0</td>\n",
       "      <td>1</td>\n",
       "    </tr>\n",
       "    <tr>\n",
       "      <th>297</th>\n",
       "      <td>768</td>\n",
       "      <td>30.5</td>\n",
       "      <td>7.7500</td>\n",
       "      <td>1</td>\n",
       "      <td>0</td>\n",
       "      <td>0</td>\n",
       "      <td>3</td>\n",
       "      <td>0</td>\n",
       "      <td>1</td>\n",
       "    </tr>\n",
       "    <tr>\n",
       "      <th>298</th>\n",
       "      <td>769</td>\n",
       "      <td>28.0</td>\n",
       "      <td>24.1500</td>\n",
       "      <td>0</td>\n",
       "      <td>1</td>\n",
       "      <td>0</td>\n",
       "      <td>3</td>\n",
       "      <td>0</td>\n",
       "      <td>1</td>\n",
       "    </tr>\n",
       "    <tr>\n",
       "      <th>299</th>\n",
       "      <td>770</td>\n",
       "      <td>32.0</td>\n",
       "      <td>8.3625</td>\n",
       "      <td>0</td>\n",
       "      <td>0</td>\n",
       "      <td>0</td>\n",
       "      <td>3</td>\n",
       "      <td>0</td>\n",
       "      <td>1</td>\n",
       "    </tr>\n",
       "  </tbody>\n",
       "</table>\n",
       "<p>300 rows × 9 columns</p>\n",
       "</div>"
      ],
      "text/plain": [
       "     Passengerid   Age     Fare  Sex  sibsp  Parch  Pclass  Survived  b\n",
       "0            471  28.0   7.2500    0      0      0       3         0  1\n",
       "1            472  38.0   8.6625    0      0      0       3         0  1\n",
       "2            473  33.0  27.7500    1      1      2       2         1  1\n",
       "3            474  23.0  13.7917    1      0      0       2         1  1\n",
       "4            475  22.0   9.8375    1      0      0       3         0  1\n",
       "..           ...   ...      ...  ...    ...    ...     ...       ... ..\n",
       "295          766  51.0  77.9583    1      1      0       1         1  1\n",
       "296          767  28.0  39.6000    0      0      0       1         0  1\n",
       "297          768  30.5   7.7500    1      0      0       3         0  1\n",
       "298          769  28.0  24.1500    0      1      0       3         0  1\n",
       "299          770  32.0   8.3625    0      0      0       3         0  1\n",
       "\n",
       "[300 rows x 9 columns]"
      ]
     },
     "execution_count": 93,
     "metadata": {},
     "output_type": "execute_result"
    }
   ],
   "source": [
    "#进行预测\n",
    "test_set = test_frame\n",
    "test_set"
   ]
  },
  {
   "cell_type": "code",
   "execution_count": 94,
   "id": "cb57493a",
   "metadata": {},
   "outputs": [
    {
     "data": {
      "text/html": [
       "<div>\n",
       "<style scoped>\n",
       "    .dataframe tbody tr th:only-of-type {\n",
       "        vertical-align: middle;\n",
       "    }\n",
       "\n",
       "    .dataframe tbody tr th {\n",
       "        vertical-align: top;\n",
       "    }\n",
       "\n",
       "    .dataframe thead th {\n",
       "        text-align: right;\n",
       "    }\n",
       "</style>\n",
       "<table border=\"1\" class=\"dataframe\">\n",
       "  <thead>\n",
       "    <tr style=\"text-align: right;\">\n",
       "      <th></th>\n",
       "      <th>Passengerid</th>\n",
       "      <th>Age</th>\n",
       "      <th>Fare</th>\n",
       "      <th>Sex</th>\n",
       "      <th>sibsp</th>\n",
       "      <th>Parch</th>\n",
       "      <th>Pclass</th>\n",
       "      <th>Survived</th>\n",
       "      <th>b</th>\n",
       "    </tr>\n",
       "  </thead>\n",
       "  <tbody>\n",
       "    <tr>\n",
       "      <th>count</th>\n",
       "      <td>300.000000</td>\n",
       "      <td>300.000000</td>\n",
       "      <td>300.000000</td>\n",
       "      <td>300.000000</td>\n",
       "      <td>300.000000</td>\n",
       "      <td>300.000000</td>\n",
       "      <td>300.000000</td>\n",
       "      <td>300.000000</td>\n",
       "      <td>300.0</td>\n",
       "    </tr>\n",
       "    <tr>\n",
       "      <th>mean</th>\n",
       "      <td>620.500000</td>\n",
       "      <td>30.714733</td>\n",
       "      <td>35.398653</td>\n",
       "      <td>0.320000</td>\n",
       "      <td>0.426667</td>\n",
       "      <td>0.353333</td>\n",
       "      <td>2.256667</td>\n",
       "      <td>0.380000</td>\n",
       "      <td>1.0</td>\n",
       "    </tr>\n",
       "    <tr>\n",
       "      <th>std</th>\n",
       "      <td>86.746758</td>\n",
       "      <td>13.143733</td>\n",
       "      <td>57.098484</td>\n",
       "      <td>0.467256</td>\n",
       "      <td>0.804225</td>\n",
       "      <td>0.823051</td>\n",
       "      <td>0.856290</td>\n",
       "      <td>0.486197</td>\n",
       "      <td>0.0</td>\n",
       "    </tr>\n",
       "    <tr>\n",
       "      <th>min</th>\n",
       "      <td>471.000000</td>\n",
       "      <td>0.670000</td>\n",
       "      <td>0.000000</td>\n",
       "      <td>0.000000</td>\n",
       "      <td>0.000000</td>\n",
       "      <td>0.000000</td>\n",
       "      <td>1.000000</td>\n",
       "      <td>0.000000</td>\n",
       "      <td>1.0</td>\n",
       "    </tr>\n",
       "    <tr>\n",
       "      <th>25%</th>\n",
       "      <td>545.750000</td>\n",
       "      <td>23.000000</td>\n",
       "      <td>7.925000</td>\n",
       "      <td>0.000000</td>\n",
       "      <td>0.000000</td>\n",
       "      <td>0.000000</td>\n",
       "      <td>1.000000</td>\n",
       "      <td>0.000000</td>\n",
       "      <td>1.0</td>\n",
       "    </tr>\n",
       "    <tr>\n",
       "      <th>50%</th>\n",
       "      <td>620.500000</td>\n",
       "      <td>28.000000</td>\n",
       "      <td>15.372900</td>\n",
       "      <td>0.000000</td>\n",
       "      <td>0.000000</td>\n",
       "      <td>0.000000</td>\n",
       "      <td>3.000000</td>\n",
       "      <td>0.000000</td>\n",
       "      <td>1.0</td>\n",
       "    </tr>\n",
       "    <tr>\n",
       "      <th>75%</th>\n",
       "      <td>695.250000</td>\n",
       "      <td>36.000000</td>\n",
       "      <td>39.000000</td>\n",
       "      <td>1.000000</td>\n",
       "      <td>1.000000</td>\n",
       "      <td>0.000000</td>\n",
       "      <td>3.000000</td>\n",
       "      <td>1.000000</td>\n",
       "      <td>1.0</td>\n",
       "    </tr>\n",
       "    <tr>\n",
       "      <th>max</th>\n",
       "      <td>770.000000</td>\n",
       "      <td>80.000000</td>\n",
       "      <td>512.329200</td>\n",
       "      <td>1.000000</td>\n",
       "      <td>5.000000</td>\n",
       "      <td>6.000000</td>\n",
       "      <td>3.000000</td>\n",
       "      <td>1.000000</td>\n",
       "      <td>1.0</td>\n",
       "    </tr>\n",
       "  </tbody>\n",
       "</table>\n",
       "</div>"
      ],
      "text/plain": [
       "       Passengerid         Age        Fare         Sex       sibsp  \\\n",
       "count   300.000000  300.000000  300.000000  300.000000  300.000000   \n",
       "mean    620.500000   30.714733   35.398653    0.320000    0.426667   \n",
       "std      86.746758   13.143733   57.098484    0.467256    0.804225   \n",
       "min     471.000000    0.670000    0.000000    0.000000    0.000000   \n",
       "25%     545.750000   23.000000    7.925000    0.000000    0.000000   \n",
       "50%     620.500000   28.000000   15.372900    0.000000    0.000000   \n",
       "75%     695.250000   36.000000   39.000000    1.000000    1.000000   \n",
       "max     770.000000   80.000000  512.329200    1.000000    5.000000   \n",
       "\n",
       "            Parch      Pclass    Survived      b  \n",
       "count  300.000000  300.000000  300.000000  300.0  \n",
       "mean     0.353333    2.256667    0.380000    1.0  \n",
       "std      0.823051    0.856290    0.486197    0.0  \n",
       "min      0.000000    1.000000    0.000000    1.0  \n",
       "25%      0.000000    1.000000    0.000000    1.0  \n",
       "50%      0.000000    3.000000    0.000000    1.0  \n",
       "75%      0.000000    3.000000    1.000000    1.0  \n",
       "max      6.000000    3.000000    1.000000    1.0  "
      ]
     },
     "execution_count": 94,
     "metadata": {},
     "output_type": "execute_result"
    }
   ],
   "source": [
    "#查看训练集数据\n",
    "test_set.describe()"
   ]
  },
  {
   "cell_type": "code",
   "execution_count": 103,
   "id": "bf03506d",
   "metadata": {},
   "outputs": [
    {
     "name": "stdout",
     "output_type": "stream",
     "text": [
      "     Sex  sibsp  Parch  Pclass  b\n",
      "0      0      0      0       3  1\n",
      "1      0      0      0       3  1\n",
      "2      1      1      2       2  1\n",
      "3      1      0      0       2  1\n",
      "4      1      0      0       3  1\n",
      "..   ...    ...    ...     ... ..\n",
      "295    1      1      0       1  1\n",
      "296    0      0      0       1  1\n",
      "297    1      0      0       3  1\n",
      "298    0      1      0       3  1\n",
      "299    0      0      0       3  1\n",
      "\n",
      "[300 rows x 5 columns]\n",
      "0      0\n",
      "1      0\n",
      "2      1\n",
      "3      1\n",
      "4      0\n",
      "      ..\n",
      "295    1\n",
      "296    0\n",
      "297    0\n",
      "298    0\n",
      "299    0\n",
      "Name: Survived, Length: 300, dtype: int64\n"
     ]
    }
   ],
   "source": [
    "#开始预测结果\n",
    "m = 0\n",
    "Y = 0\n",
    "test_x = test_set[[\"Sex\",\"sibsp\",\"Parch\",\"Pclass\",\"b\"]]\n",
    "test_y = test_set[\"Survived\"].copy()\n",
    "print(test_x)\n",
    "print(test_y)\n"
   ]
  },
  {
   "cell_type": "code",
   "execution_count": 104,
   "id": "ba1aef0b",
   "metadata": {},
   "outputs": [
    {
     "data": {
      "text/html": [
       "<div>\n",
       "<style scoped>\n",
       "    .dataframe tbody tr th:only-of-type {\n",
       "        vertical-align: middle;\n",
       "    }\n",
       "\n",
       "    .dataframe tbody tr th {\n",
       "        vertical-align: top;\n",
       "    }\n",
       "\n",
       "    .dataframe thead th {\n",
       "        text-align: right;\n",
       "    }\n",
       "</style>\n",
       "<table border=\"1\" class=\"dataframe\">\n",
       "  <thead>\n",
       "    <tr style=\"text-align: right;\">\n",
       "      <th></th>\n",
       "      <th>pre</th>\n",
       "    </tr>\n",
       "  </thead>\n",
       "  <tbody>\n",
       "    <tr>\n",
       "      <th>0</th>\n",
       "      <td>0.286953</td>\n",
       "    </tr>\n",
       "    <tr>\n",
       "      <th>1</th>\n",
       "      <td>0.286953</td>\n",
       "    </tr>\n",
       "    <tr>\n",
       "      <th>2</th>\n",
       "      <td>0.547991</td>\n",
       "    </tr>\n",
       "    <tr>\n",
       "      <th>3</th>\n",
       "      <td>0.330213</td>\n",
       "    </tr>\n",
       "    <tr>\n",
       "      <th>4</th>\n",
       "      <td>0.272889</td>\n",
       "    </tr>\n",
       "    <tr>\n",
       "      <th>...</th>\n",
       "      <td>...</td>\n",
       "    </tr>\n",
       "    <tr>\n",
       "      <th>295</th>\n",
       "      <td>0.466314</td>\n",
       "    </tr>\n",
       "    <tr>\n",
       "      <th>296</th>\n",
       "      <td>0.409837</td>\n",
       "    </tr>\n",
       "    <tr>\n",
       "      <th>297</th>\n",
       "      <td>0.272889</td>\n",
       "    </tr>\n",
       "    <tr>\n",
       "      <th>298</th>\n",
       "      <td>0.351888</td>\n",
       "    </tr>\n",
       "    <tr>\n",
       "      <th>299</th>\n",
       "      <td>0.286953</td>\n",
       "    </tr>\n",
       "  </tbody>\n",
       "</table>\n",
       "<p>300 rows × 1 columns</p>\n",
       "</div>"
      ],
      "text/plain": [
       "          pre\n",
       "0    0.286953\n",
       "1    0.286953\n",
       "2    0.547991\n",
       "3    0.330213\n",
       "4    0.272889\n",
       "..        ...\n",
       "295  0.466314\n",
       "296  0.409837\n",
       "297  0.272889\n",
       "298  0.351888\n",
       "299  0.286953\n",
       "\n",
       "[300 rows x 1 columns]"
      ]
     },
     "execution_count": 104,
     "metadata": {},
     "output_type": "execute_result"
    }
   ],
   "source": [
    "pre_1 = np.dot(test_x,W)\n",
    "pre = 1/(1+np.exp(-pre_1))\n",
    "pre = pd.DataFrame(pre,columns =[\"pre\"])\n",
    "pre"
   ]
  },
  {
   "cell_type": "code",
   "execution_count": 105,
   "id": "e4d9023f",
   "metadata": {},
   "outputs": [
    {
     "data": {
      "text/html": [
       "<div>\n",
       "<style scoped>\n",
       "    .dataframe tbody tr th:only-of-type {\n",
       "        vertical-align: middle;\n",
       "    }\n",
       "\n",
       "    .dataframe tbody tr th {\n",
       "        vertical-align: top;\n",
       "    }\n",
       "\n",
       "    .dataframe thead th {\n",
       "        text-align: right;\n",
       "    }\n",
       "</style>\n",
       "<table border=\"1\" class=\"dataframe\">\n",
       "  <thead>\n",
       "    <tr style=\"text-align: right;\">\n",
       "      <th></th>\n",
       "      <th>pre</th>\n",
       "      <th>Survived</th>\n",
       "    </tr>\n",
       "  </thead>\n",
       "  <tbody>\n",
       "    <tr>\n",
       "      <th>0</th>\n",
       "      <td>0.286953</td>\n",
       "      <td>0</td>\n",
       "    </tr>\n",
       "    <tr>\n",
       "      <th>1</th>\n",
       "      <td>0.286953</td>\n",
       "      <td>0</td>\n",
       "    </tr>\n",
       "    <tr>\n",
       "      <th>2</th>\n",
       "      <td>0.547991</td>\n",
       "      <td>1</td>\n",
       "    </tr>\n",
       "    <tr>\n",
       "      <th>3</th>\n",
       "      <td>0.330213</td>\n",
       "      <td>1</td>\n",
       "    </tr>\n",
       "    <tr>\n",
       "      <th>4</th>\n",
       "      <td>0.272889</td>\n",
       "      <td>0</td>\n",
       "    </tr>\n",
       "    <tr>\n",
       "      <th>...</th>\n",
       "      <td>...</td>\n",
       "      <td>...</td>\n",
       "    </tr>\n",
       "    <tr>\n",
       "      <th>295</th>\n",
       "      <td>0.466314</td>\n",
       "      <td>1</td>\n",
       "    </tr>\n",
       "    <tr>\n",
       "      <th>296</th>\n",
       "      <td>0.409837</td>\n",
       "      <td>0</td>\n",
       "    </tr>\n",
       "    <tr>\n",
       "      <th>297</th>\n",
       "      <td>0.272889</td>\n",
       "      <td>0</td>\n",
       "    </tr>\n",
       "    <tr>\n",
       "      <th>298</th>\n",
       "      <td>0.351888</td>\n",
       "      <td>0</td>\n",
       "    </tr>\n",
       "    <tr>\n",
       "      <th>299</th>\n",
       "      <td>0.286953</td>\n",
       "      <td>0</td>\n",
       "    </tr>\n",
       "  </tbody>\n",
       "</table>\n",
       "<p>300 rows × 2 columns</p>\n",
       "</div>"
      ],
      "text/plain": [
       "          pre  Survived\n",
       "0    0.286953         0\n",
       "1    0.286953         0\n",
       "2    0.547991         1\n",
       "3    0.330213         1\n",
       "4    0.272889         0\n",
       "..        ...       ...\n",
       "295  0.466314         1\n",
       "296  0.409837         0\n",
       "297  0.272889         0\n",
       "298  0.351888         0\n",
       "299  0.286953         0\n",
       "\n",
       "[300 rows x 2 columns]"
      ]
     },
     "execution_count": 105,
     "metadata": {},
     "output_type": "execute_result"
    }
   ],
   "source": [
    "outcome = pd.concat([pre,test_y],axis = 1)\n",
    "outcome"
   ]
  },
  {
   "cell_type": "code",
   "execution_count": 115,
   "id": "f2510c17",
   "metadata": {},
   "outputs": [
    {
     "data": {
      "text/html": [
       "<div>\n",
       "<style scoped>\n",
       "    .dataframe tbody tr th:only-of-type {\n",
       "        vertical-align: middle;\n",
       "    }\n",
       "\n",
       "    .dataframe tbody tr th {\n",
       "        vertical-align: top;\n",
       "    }\n",
       "\n",
       "    .dataframe thead tr th {\n",
       "        text-align: left;\n",
       "    }\n",
       "</style>\n",
       "<table border=\"1\" class=\"dataframe\">\n",
       "  <thead>\n",
       "    <tr>\n",
       "      <th></th>\n",
       "      <th>pre_positive</th>\n",
       "      <th>pre_negative</th>\n",
       "    </tr>\n",
       "  </thead>\n",
       "  <tbody>\n",
       "    <tr>\n",
       "      <th>True</th>\n",
       "      <td>64</td>\n",
       "      <td>50</td>\n",
       "    </tr>\n",
       "    <tr>\n",
       "      <th>False</th>\n",
       "      <td>57</td>\n",
       "      <td>129</td>\n",
       "    </tr>\n",
       "  </tbody>\n",
       "</table>\n",
       "</div>"
      ],
      "text/plain": [
       "      pre_positive pre_negative\n",
       "True            64           50\n",
       "False           57          129"
      ]
     },
     "execution_count": 115,
     "metadata": {},
     "output_type": "execute_result"
    }
   ],
   "source": [
    "# 构建混淆矩阵\n",
    "TP = FN = FP = TN = 0\n",
    "\n",
    "for i in range(300):\n",
    "    if outcome.iloc[i][0] >= 0.4 and outcome.iloc[i][1] == 1:\n",
    "        TP += 1\n",
    "    elif outcome.iloc[i][0] < 0.4 and outcome.iloc[i][1] == 1:\n",
    "        FN += 1\n",
    "    elif outcome.iloc[i][0] >= 0.4 and outcome.iloc[i][1] == 0:\n",
    "        FP += 1\n",
    "    else :\n",
    "        TN += 1\n",
    "conlusion_numpy = [[TP,FN],\n",
    "                    [FP,TN]]\n",
    "Conlusion_matrix = pd.DataFrame(conlusion_numpy,columns = [[\"pre_positive\",\"pre_negative\"]], index = [[\"True\",\"False\"]])\n",
    "Conlusion_matrix\n"
   ]
  },
  {
   "cell_type": "code",
   "execution_count": 117,
   "id": "99c5ca48",
   "metadata": {},
   "outputs": [
    {
     "name": "stdout",
     "output_type": "stream",
     "text": [
      "0.6433333333333333 0.5289256198347108 0.5614035087719298\n"
     ]
    }
   ],
   "source": [
    "acc = (TP+TN)/300\n",
    "ratio_precision = TP/(TP+FP)\n",
    "ratio_entire = TP/(TP+FN)\n",
    "print(acc,ratio_precision,ratio_entire)"
   ]
  },
  {
   "cell_type": "code",
   "execution_count": 124,
   "id": "4bbb821a",
   "metadata": {},
   "outputs": [
    {
     "data": {
      "image/png": "[encoded data removed]",
      "text/plain": [
       "<Figure size 432x288 with 1 Axes>"
      ]
     },
     "metadata": {
      "needs_background": "light"
     },
     "output_type": "display_data"
    }
   ],
   "source": [
    "# 画出P-R曲线\n",
    "TP = 0\n",
    "FP = 0\n",
    "FN = 114\n",
    "TN = 186\n",
    "P = list()\n",
    "R = list()\n",
    "outcome_sort = outcome.sort_values(by = \"Survived\",ascending = False)\n",
    "\n",
    "for i in range(300):\n",
    "    if outcome_sort.iloc[i][1] == 1:\n",
    "        TP += 1\n",
    "        FN -= 1\n",
    "    elif outcome_sort.iloc[i][1] == 0:\n",
    "        FP += 1\n",
    "        TN -= 1\n",
    "    P.append(TP/(TP+FP))\n",
    "    R.append(TP/(TP+FN))\n",
    "\n",
    "plt.xlabel(\"recall\")\n",
    "plt.ylabel(\"precision\")\n",
    "plt.plot(R,P)\n",
    "plt.show()\n",
    "\n",
    "        "
   ]
  },
  {
   "cell_type": "code",
   "execution_count": 125,
   "id": "45765cef",
   "metadata": {},
   "outputs": [
    {
     "data": {
      "image/png": "[encoded data removed]",
      "text/plain": [
       "<Figure size 432x288 with 1 Axes>"
      ]
     },
     "metadata": {
      "needs_background": "light"
     },
     "output_type": "display_data"
    }
   ],
   "source": [
    "#画出ROC曲线\n",
    "TP = 0\n",
    "FP = 0\n",
    "FN = 114\n",
    "TN = 186\n",
    "FPR= list()\n",
    "TPR = list()\n",
    "outcome_sort = outcome.sort_values(by = \"Survived\",ascending = False)\n",
    "for i in range(300):\n",
    "    if outcome_sort.iloc[i][1] == 1:\n",
    "        TP += 1\n",
    "        FN -= 1\n",
    "    elif outcome_sort.iloc[i][1] == 0:\n",
    "        FP += 1\n",
    "        TN -= 1\n",
    "    FPR.append(FP/(TN+FP))\n",
    "    TPR.append(TP/(TP+FN))\n",
    "plt.xlabel(\"FPR\")\n",
    "plt.ylabel(\"TPR\")\n",
    "plt.plot(FPR,TPR)\n",
    "plt.show()"
   ]
  }
 ],
 "metadata": {
  "kernelspec": {
   "display_name": "Python 3 (ipykernel)",
   "language": "python",
   "name": "python3"
  },
  "language_info": {
   "codemirror_mode": {
    "name": "ipython",
    "version": 3
   },
   "file_extension": ".py",
   "mimetype": "text/x-python",
   "name": "python",
   "nbconvert_exporter": "python",
   "pygments_lexer": "ipython3",
   "version": "3.9.12"
  }
 },
 "nbformat": 4,
 "nbformat_minor": 5
}
